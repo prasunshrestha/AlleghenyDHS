{
 "cells": [
  {
   "cell_type": "markdown",
   "metadata": {
    "ExecuteTime": {
     "end_time": "2020-11-06T02:33:25.276388Z",
     "start_time": "2020-11-06T02:33:25.272148Z"
    },
    "hide_input": false
   },
   "source": [
    "# Allegheny County Department of Human Services Data Challenge\n",
    "Prasun Shrestha | \n",
    "November 6, 2020"
   ]
  },
  {
   "cell_type": "code",
   "execution_count": 21,
   "metadata": {
    "ExecuteTime": {
     "end_time": "2020-11-06T21:26:43.301543Z",
     "start_time": "2020-11-06T21:26:43.296904Z"
    }
   },
   "outputs": [
    {
     "data": {
      "text/html": [
       "<script>\n",
       "code_show=true; \n",
       "function code_toggle() {\n",
       " if (code_show){\n",
       " $('div.input').hide();\n",
       " } else {\n",
       " $('div.input').show();\n",
       " }\n",
       " code_show = !code_show\n",
       "} \n",
       "$( document ).ready(code_toggle);\n",
       "</script>\n",
       "<form action=\"javascript:code_toggle()\"><input type=\"submit\" value=\"Click here to see the raw code\"></form>"
      ],
      "text/plain": [
       "<IPython.core.display.HTML object>"
      ]
     },
     "execution_count": 21,
     "metadata": {},
     "output_type": "execute_result"
    }
   ],
   "source": [
    "from IPython.display import HTML\n",
    "\n",
    "HTML('''<script>\n",
    "code_show=true; \n",
    "function code_toggle() {\n",
    " if (code_show){\n",
    " $('div.input').hide();\n",
    " } else {\n",
    " $('div.input').show();\n",
    " }\n",
    " code_show = !code_show\n",
    "} \n",
    "$( document ).ready(code_toggle);\n",
    "</script>\n",
    "<form action=\"javascript:code_toggle()\"><input type=\"submit\" value=\"Click here to see the raw code\"></form>''')\n",
    "\n",
    "#Code Source: Stack Overflow (https://stackoverflow.com/questions/27934885/how-to-hide-code-from-cells-in-ipython-notebook-visualized-with-nbviewer)"
   ]
  },
  {
   "cell_type": "markdown",
   "metadata": {},
   "source": [
    "## Import packages and datasets"
   ]
  },
  {
   "cell_type": "markdown",
   "metadata": {},
   "source": [
    "We will start the challenge with importing necessary Python packages and the dataset `AnalyticExcercise_20180214.xlsx`. Here is a snapshot of the dataframe:"
   ]
  },
  {
   "cell_type": "code",
   "execution_count": 22,
   "metadata": {
    "ExecuteTime": {
     "end_time": "2020-11-06T21:26:43.437567Z",
     "start_time": "2020-11-06T21:26:43.433926Z"
    },
    "hide_input": false
   },
   "outputs": [],
   "source": [
    "import numpy as np\n",
    "import pandas as pd\n",
    "import matplotlib.pyplot as plt\n",
    "import seaborn as sns\n",
    "\n",
    "from sklearn.preprocessing import OneHotEncoder as OHE\n",
    "from sklearn.preprocessing import StandardScaler\n",
    "from sklearn import svm\n",
    "from sklearn.model_selection import cross_val_score"
   ]
  },
  {
   "cell_type": "code",
   "execution_count": 23,
   "metadata": {
    "ExecuteTime": {
     "end_time": "2020-11-06T21:26:44.432599Z",
     "start_time": "2020-11-06T21:26:43.440157Z"
    },
    "hide_input": false
   },
   "outputs": [
    {
     "name": "stdout",
     "output_type": "stream",
     "text": [
      "The dataframe has 2849 features and 36 columns.\n"
     ]
    },
    {
     "data": {
      "text/html": [
       "<div>\n",
       "<style scoped>\n",
       "    .dataframe tbody tr th:only-of-type {\n",
       "        vertical-align: middle;\n",
       "    }\n",
       "\n",
       "    .dataframe tbody tr th {\n",
       "        vertical-align: top;\n",
       "    }\n",
       "\n",
       "    .dataframe thead th {\n",
       "        text-align: right;\n",
       "    }\n",
       "</style>\n",
       "<table border=\"1\" class=\"dataframe\">\n",
       "  <thead>\n",
       "    <tr style=\"text-align: right;\">\n",
       "      <th></th>\n",
       "      <th>id</th>\n",
       "      <th>st_cntyname</th>\n",
       "      <th>gender</th>\n",
       "      <th>hispanic</th>\n",
       "      <th>ethnic</th>\n",
       "      <th>ethnic2</th>\n",
       "      <th>age_20161231</th>\n",
       "      <th>agecat7</th>\n",
       "      <th>spellage</th>\n",
       "      <th>inyear</th>\n",
       "      <th>...</th>\n",
       "      <th>durmo</th>\n",
       "      <th>durcat</th>\n",
       "      <th>recat</th>\n",
       "      <th>exit</th>\n",
       "      <th>im</th>\n",
       "      <th>iy</th>\n",
       "      <th>iymo</th>\n",
       "      <th>om</th>\n",
       "      <th>oy</th>\n",
       "      <th>oymo</th>\n",
       "    </tr>\n",
       "  </thead>\n",
       "  <tbody>\n",
       "    <tr>\n",
       "      <th>0</th>\n",
       "      <td>3000901899</td>\n",
       "      <td>PA_Allegheny</td>\n",
       "      <td>F</td>\n",
       "      <td>U</td>\n",
       "      <td>WH</td>\n",
       "      <td>WH</td>\n",
       "      <td>20</td>\n",
       "      <td>7</td>\n",
       "      <td>17</td>\n",
       "      <td>2014</td>\n",
       "      <td>...</td>\n",
       "      <td>3.836066</td>\n",
       "      <td>3</td>\n",
       "      <td>6</td>\n",
       "      <td>XRF</td>\n",
       "      <td>1</td>\n",
       "      <td>2014</td>\n",
       "      <td>201401</td>\n",
       "      <td>4</td>\n",
       "      <td>2014</td>\n",
       "      <td>201404</td>\n",
       "    </tr>\n",
       "    <tr>\n",
       "      <th>1</th>\n",
       "      <td>3002061648</td>\n",
       "      <td>PA_Allegheny</td>\n",
       "      <td>M</td>\n",
       "      <td>U</td>\n",
       "      <td>BL</td>\n",
       "      <td>BL</td>\n",
       "      <td>7</td>\n",
       "      <td>3</td>\n",
       "      <td>4</td>\n",
       "      <td>2014</td>\n",
       "      <td>...</td>\n",
       "      <td>1.967213</td>\n",
       "      <td>2</td>\n",
       "      <td>6</td>\n",
       "      <td>XRF</td>\n",
       "      <td>1</td>\n",
       "      <td>2014</td>\n",
       "      <td>201401</td>\n",
       "      <td>3</td>\n",
       "      <td>2014</td>\n",
       "      <td>201403</td>\n",
       "    </tr>\n",
       "    <tr>\n",
       "      <th>2</th>\n",
       "      <td>3002306442</td>\n",
       "      <td>PA_Allegheny</td>\n",
       "      <td>M</td>\n",
       "      <td>N</td>\n",
       "      <td>WH</td>\n",
       "      <td>WH</td>\n",
       "      <td>3</td>\n",
       "      <td>1</td>\n",
       "      <td>0</td>\n",
       "      <td>2014</td>\n",
       "      <td>...</td>\n",
       "      <td>1.737705</td>\n",
       "      <td>2</td>\n",
       "      <td>1</td>\n",
       "      <td>XRF</td>\n",
       "      <td>1</td>\n",
       "      <td>2014</td>\n",
       "      <td>201401</td>\n",
       "      <td>2</td>\n",
       "      <td>2014</td>\n",
       "      <td>201402</td>\n",
       "    </tr>\n",
       "    <tr>\n",
       "      <th>3</th>\n",
       "      <td>3002012787</td>\n",
       "      <td>PA_Allegheny</td>\n",
       "      <td>M</td>\n",
       "      <td>N</td>\n",
       "      <td>BL</td>\n",
       "      <td>BL</td>\n",
       "      <td>6</td>\n",
       "      <td>3</td>\n",
       "      <td>4</td>\n",
       "      <td>2014</td>\n",
       "      <td>...</td>\n",
       "      <td>30.786885</td>\n",
       "      <td>6</td>\n",
       "      <td>3</td>\n",
       "      <td>XLC</td>\n",
       "      <td>1</td>\n",
       "      <td>2014</td>\n",
       "      <td>201401</td>\n",
       "      <td>8</td>\n",
       "      <td>2016</td>\n",
       "      <td>201608</td>\n",
       "    </tr>\n",
       "    <tr>\n",
       "      <th>4</th>\n",
       "      <td>3002035176</td>\n",
       "      <td>PA_Allegheny</td>\n",
       "      <td>F</td>\n",
       "      <td>N</td>\n",
       "      <td>BL</td>\n",
       "      <td>BL</td>\n",
       "      <td>5</td>\n",
       "      <td>2</td>\n",
       "      <td>2</td>\n",
       "      <td>2014</td>\n",
       "      <td>...</td>\n",
       "      <td>30.786885</td>\n",
       "      <td>6</td>\n",
       "      <td>3</td>\n",
       "      <td>XLC</td>\n",
       "      <td>1</td>\n",
       "      <td>2014</td>\n",
       "      <td>201401</td>\n",
       "      <td>8</td>\n",
       "      <td>2016</td>\n",
       "      <td>201608</td>\n",
       "    </tr>\n",
       "  </tbody>\n",
       "</table>\n",
       "<p>5 rows × 36 columns</p>\n",
       "</div>"
      ],
      "text/plain": [
       "           id   st_cntyname gender hispanic ethnic ethnic2  age_20161231  \\\n",
       "0  3000901899  PA_Allegheny      F        U     WH      WH            20   \n",
       "1  3002061648  PA_Allegheny      M        U     BL      BL             7   \n",
       "2  3002306442  PA_Allegheny      M        N     WH      WH             3   \n",
       "3  3002012787  PA_Allegheny      M        N     BL      BL             6   \n",
       "4  3002035176  PA_Allegheny      F        N     BL      BL             5   \n",
       "\n",
       "  agecat7  spellage  inyear  ...      durmo durcat recat  exit im    iy  \\\n",
       "0       7        17    2014  ...   3.836066      3     6   XRF  1  2014   \n",
       "1       3         4    2014  ...   1.967213      2     6   XRF  1  2014   \n",
       "2       1         0    2014  ...   1.737705      2     1   XRF  1  2014   \n",
       "3       3         4    2014  ...  30.786885      6     3   XLC  1  2014   \n",
       "4       2         2    2014  ...  30.786885      6     3   XLC  1  2014   \n",
       "\n",
       "     iymo om    oy    oymo  \n",
       "0  201401  4  2014  201404  \n",
       "1  201401  3  2014  201403  \n",
       "2  201401  2  2014  201402  \n",
       "3  201401  8  2016  201608  \n",
       "4  201401  8  2016  201608  \n",
       "\n",
       "[5 rows x 36 columns]"
      ]
     },
     "execution_count": 23,
     "metadata": {},
     "output_type": "execute_result"
    }
   ],
   "source": [
    "df = pd.read_excel(\"AnalyticExcercise_20180214.xlsx\", sheet_name = 1)\n",
    "df.columns = map(str.lower, df.columns) # lower case all the header\n",
    "\n",
    "print(\"The dataframe has %d features and %d columns.\" % (df.shape[0], df.shape[1]))\n",
    "df.head()"
   ]
  },
  {
   "cell_type": "markdown",
   "metadata": {
    "ExecuteTime": {
     "end_time": "2020-11-06T03:10:18.684395Z",
     "start_time": "2020-11-06T03:10:18.662434Z"
    }
   },
   "source": [
    "## Data Cleaning"
   ]
  },
  {
   "cell_type": "markdown",
   "metadata": {},
   "source": [
    "Before we do any exploratory data analysis, let's check if we have any missing values."
   ]
  },
  {
   "cell_type": "code",
   "execution_count": 24,
   "metadata": {
    "ExecuteTime": {
     "end_time": "2020-11-06T21:26:44.441491Z",
     "start_time": "2020-11-06T21:26:44.435213Z"
    },
    "hide_input": false
   },
   "outputs": [
    {
     "name": "stdout",
     "output_type": "stream",
     "text": [
      "Series([], dtype: float64)\n"
     ]
    }
   ],
   "source": [
    "# checking for null values\n",
    "\n",
    "nullValues = df.columns[df.isnull().any()] # checks for indexes with null values\n",
    "print(df[nullValues].isnull().sum()) # counts the missing values for each series (features)"
   ]
  },
  {
   "cell_type": "markdown",
   "metadata": {},
   "source": [
    "No counts of missing values exists. Thus, we do not have any missing values on the dataframe. \\\n",
    "As a result, we do not have to worry about removing missing values or imputations for the given dataframe."
   ]
  },
  {
   "cell_type": "markdown",
   "metadata": {},
   "source": [
    "## Exploratory Data Analysis"
   ]
  },
  {
   "cell_type": "markdown",
   "metadata": {},
   "source": [
    "### Gender"
   ]
  },
  {
   "cell_type": "markdown",
   "metadata": {},
   "source": [
    "The dataframe has a slightly higher count of `males`over `females`. Following are the frequency table and the histogram of relative frequency of genders."
   ]
  },
  {
   "cell_type": "code",
   "execution_count": 25,
   "metadata": {
    "ExecuteTime": {
     "end_time": "2020-11-06T21:26:44.448544Z",
     "start_time": "2020-11-06T21:26:44.444057Z"
    },
    "hide_input": false
   },
   "outputs": [
    {
     "data": {
      "text/plain": [
       "M    1454\n",
       "F    1395\n",
       "Name: gender, dtype: int64"
      ]
     },
     "execution_count": 25,
     "metadata": {},
     "output_type": "execute_result"
    }
   ],
   "source": [
    "df['gender'].value_counts()"
   ]
  },
  {
   "cell_type": "code",
   "execution_count": 26,
   "metadata": {
    "ExecuteTime": {
     "end_time": "2020-11-06T21:26:44.557986Z",
     "start_time": "2020-11-06T21:26:44.450264Z"
    },
    "hide_input": false
   },
   "outputs": [
    {
     "data": {
      "image/png": "[encoded data removed]",
      "text/plain": [
       "<Figure size 432x288 with 1 Axes>"
      ]
     },
     "metadata": {
      "needs_background": "light"
     },
     "output_type": "display_data"
    }
   ],
   "source": [
    "genderPlot = sns.histplot(df['gender'], stat = \"probability\")\n",
    "\n",
    "genderPlot.set_xlabel(\"Gender\", size = 12, color = \"black\")\n",
    "genderPlot.set_ylabel(\"Relative Frequency\", size = 12, color = \"black\");\n",
    "genderPlot.set_title(\"Distribution of Gender\", size = 13, loc = 'center', color = \"black\");\n",
    "\n",
    "for p in genderPlot.patches:\n",
    "    genderPlot.annotate(format(p.get_height(), '.3f'), \n",
    "                   (p.get_x() + p.get_width() / 2., p.get_height()), \n",
    "                   ha = 'center', va = 'center', \n",
    "                   xytext = (0, 9), size = 12, color = \"black\",\n",
    "                   textcoords = 'offset points')\n",
    "\n",
    "plt.show()"
   ]
  },
  {
   "cell_type": "markdown",
   "metadata": {},
   "source": [
    "### Hispanic"
   ]
  },
  {
   "cell_type": "markdown",
   "metadata": {},
   "source": [
    "As with the `gender` variable, we explore the `hispanic` variable as well. An overwhelming majority of the observations are non-hispanics, and the difference in proportions is statistically significant."
   ]
  },
  {
   "cell_type": "code",
   "execution_count": 27,
   "metadata": {
    "ExecuteTime": {
     "end_time": "2020-11-06T21:26:44.565380Z",
     "start_time": "2020-11-06T21:26:44.560026Z"
    }
   },
   "outputs": [
    {
     "data": {
      "text/plain": [
       "N    2105\n",
       "U     650\n",
       "Y      94\n",
       "Name: hispanic, dtype: int64"
      ]
     },
     "execution_count": 27,
     "metadata": {},
     "output_type": "execute_result"
    }
   ],
   "source": [
    "df['hispanic'].value_counts()"
   ]
  },
  {
   "cell_type": "code",
   "execution_count": 28,
   "metadata": {
    "ExecuteTime": {
     "end_time": "2020-11-06T21:26:44.687333Z",
     "start_time": "2020-11-06T21:26:44.568719Z"
    }
   },
   "outputs": [
    {
     "data": {
      "image/png": "[encoded data removed]",
      "text/plain": [
       "<Figure size 432x288 with 1 Axes>"
      ]
     },
     "metadata": {
      "needs_background": "light"
     },
     "output_type": "display_data"
    }
   ],
   "source": [
    "hispanicPlot = sns.histplot(df['hispanic'], stat = \"probability\")\n",
    "\n",
    "hispanicPlot.set_xlabel(\"Hispanic?\", size = 12, color = \"black\")\n",
    "hispanicPlot.set_ylabel(\"Relative Frequency\", size = 12, color = \"black\");\n",
    "hispanicPlot.set_title(\"Distribution of Hispanics\", size = 13, loc = 'center', color = \"black\");\n",
    "\n",
    "for p in hispanicPlot.patches:\n",
    "    hispanicPlot.annotate(format(p.get_height(), '.3f'), \n",
    "                   (p.get_x() + p.get_width() / 2., p.get_height()), \n",
    "                   ha = 'center', va = 'center', \n",
    "                   xytext = (0, 9), size = 12, color = \"black\",\n",
    "                   textcoords = 'offset points')\n",
    "\n",
    "plt.show()"
   ]
  },
  {
   "cell_type": "markdown",
   "metadata": {},
   "source": [
    "### Ethnicity"
   ]
  },
  {
   "cell_type": "markdown",
   "metadata": {},
   "source": [
    "In addition to the `gender` and `ethnicity`, we can notice that African American children account for the majority of the observations (43.6%) followed by White (35.0%)."
   ]
  },
  {
   "cell_type": "code",
   "execution_count": 29,
   "metadata": {
    "ExecuteTime": {
     "end_time": "2020-11-06T21:26:44.695685Z",
     "start_time": "2020-11-06T21:26:44.690285Z"
    }
   },
   "outputs": [
    {
     "data": {
      "text/plain": [
       "BL    1243\n",
       "WH     996\n",
       "UK     249\n",
       "MU     190\n",
       "OT     163\n",
       "AS       6\n",
       "AN       2\n",
       "Name: ethnic, dtype: int64"
      ]
     },
     "execution_count": 29,
     "metadata": {},
     "output_type": "execute_result"
    }
   ],
   "source": [
    "df['ethnic'].value_counts()"
   ]
  },
  {
   "cell_type": "code",
   "execution_count": 30,
   "metadata": {
    "ExecuteTime": {
     "end_time": "2020-11-06T21:26:44.832243Z",
     "start_time": "2020-11-06T21:26:44.697291Z"
    }
   },
   "outputs": [
    {
     "data": {
      "image/png": "[encoded data removed]",
      "text/plain": [
       "<Figure size 432x288 with 1 Axes>"
      ]
     },
     "metadata": {
      "needs_background": "light"
     },
     "output_type": "display_data"
    }
   ],
   "source": [
    "ethnicPlot = sns.histplot(df['ethnic'], stat = \"probability\")\n",
    "\n",
    "ethnicPlot.set_xlabel(\"Ethnicity\", size = 12, color = \"black\")\n",
    "ethnicPlot.set_ylabel(\"Relative Frequency\", size = 12, color = \"black\");\n",
    "ethnicPlot.set_title(\"Distribution of Race\", size = 13, loc = 'center', color = \"black\");\n",
    "\n",
    "for p in ethnicPlot.patches:\n",
    "    ethnicPlot.annotate(format(p.get_height(), '.3f'), \n",
    "                   (p.get_x() + p.get_width() / 2., p.get_height()), \n",
    "                   ha = 'center', va = 'center', \n",
    "                   xytext = (0, 9), size = 12, color = \"black\",\n",
    "                   textcoords = 'offset points')\n",
    "\n",
    "plt.show()"
   ]
  },
  {
   "cell_type": "markdown",
   "metadata": {},
   "source": [
    "### Contingency Table"
   ]
  },
  {
   "cell_type": "markdown",
   "metadata": {},
   "source": [
    "Here is the contigency table that summarizes the frequency of `gender` and `ethnicity`. As the table depicts, an child, on average, is more likely to be African American male than any other race or gender."
   ]
  },
  {
   "cell_type": "code",
   "execution_count": 31,
   "metadata": {
    "ExecuteTime": {
     "end_time": "2020-11-06T21:26:44.857475Z",
     "start_time": "2020-11-06T21:26:44.834129Z"
    }
   },
   "outputs": [
    {
     "data": {
      "text/html": [
       "<div>\n",
       "<style scoped>\n",
       "    .dataframe tbody tr th:only-of-type {\n",
       "        vertical-align: middle;\n",
       "    }\n",
       "\n",
       "    .dataframe tbody tr th {\n",
       "        vertical-align: top;\n",
       "    }\n",
       "\n",
       "    .dataframe thead th {\n",
       "        text-align: right;\n",
       "    }\n",
       "</style>\n",
       "<table border=\"1\" class=\"dataframe\">\n",
       "  <thead>\n",
       "    <tr style=\"text-align: right;\">\n",
       "      <th>ethnic</th>\n",
       "      <th>AN</th>\n",
       "      <th>AS</th>\n",
       "      <th>BL</th>\n",
       "      <th>MU</th>\n",
       "      <th>OT</th>\n",
       "      <th>UK</th>\n",
       "      <th>WH</th>\n",
       "    </tr>\n",
       "    <tr>\n",
       "      <th>gender</th>\n",
       "      <th></th>\n",
       "      <th></th>\n",
       "      <th></th>\n",
       "      <th></th>\n",
       "      <th></th>\n",
       "      <th></th>\n",
       "      <th></th>\n",
       "    </tr>\n",
       "  </thead>\n",
       "  <tbody>\n",
       "    <tr>\n",
       "      <th>F</th>\n",
       "      <td>0.07</td>\n",
       "      <td>0.00</td>\n",
       "      <td>42.58</td>\n",
       "      <td>6.16</td>\n",
       "      <td>5.52</td>\n",
       "      <td>9.32</td>\n",
       "      <td>36.34</td>\n",
       "    </tr>\n",
       "    <tr>\n",
       "      <th>M</th>\n",
       "      <td>0.07</td>\n",
       "      <td>0.41</td>\n",
       "      <td>44.64</td>\n",
       "      <td>7.15</td>\n",
       "      <td>5.91</td>\n",
       "      <td>8.18</td>\n",
       "      <td>33.63</td>\n",
       "    </tr>\n",
       "  </tbody>\n",
       "</table>\n",
       "</div>"
      ],
      "text/plain": [
       "ethnic    AN    AS     BL    MU    OT    UK     WH\n",
       "gender                                            \n",
       "F       0.07  0.00  42.58  6.16  5.52  9.32  36.34\n",
       "M       0.07  0.41  44.64  7.15  5.91  8.18  33.63"
      ]
     },
     "execution_count": 31,
     "metadata": {},
     "output_type": "execute_result"
    }
   ],
   "source": [
    "contTable = pd.crosstab(df.gender,df.ethnic).apply(lambda r:round(r/r.sum() * 100, 2),axis=1)\n",
    "\n",
    "contTable"
   ]
  },
  {
   "cell_type": "markdown",
   "metadata": {
    "ExecuteTime": {
     "end_time": "2020-11-06T19:28:06.274601Z",
     "start_time": "2020-11-06T19:28:06.272669Z"
    }
   },
   "source": [
    "## Problem Statement and Modeling Building"
   ]
  },
  {
   "cell_type": "markdown",
   "metadata": {},
   "source": [
    "The dataframe also had several other variables that we could potentially explore, but for this assignment, I am interested in the `reenter` variable - whether a child has a subsequent spell or not.\n",
    "\n",
    "Ideally, we would not any children to go through any subsequent spell, but when they do, the DHS bear an enormous cost, such as reallocation and logistical. The \"cost\" is further exacerbated by the emotional labor and mental distress that children themselves have to go through. As a result, <span class=\"mark\">a good solution will be to build a predictive model  that could serve as an early-warning measure to help us understand whether a children will go through a subsequent spell or not.</span> In other words, based on our historical records and what we know about the children, could we build foresee whether s/he will have to go through subsequent spell?\n",
    "\n",
    "<span class=\"mark\">With the predictive model, we could flag children and take preemptive interventions, such as counseling, to ensure that they do not have to go through the subsequent spell.</span>"
   ]
  },
  {
   "cell_type": "markdown",
   "metadata": {},
   "source": [
    "Following are the features (characteristics) that could help us discern the patterns among children who (or do not) go through the subsequent spells."
   ]
  },
  {
   "cell_type": "code",
   "execution_count": 32,
   "metadata": {
    "ExecuteTime": {
     "end_time": "2020-11-06T21:26:44.863417Z",
     "start_time": "2020-11-06T21:26:44.859877Z"
    }
   },
   "outputs": [],
   "source": [
    "columns = ['gender', 'hispanic', 'ethnic', 'spellage', 'inyear', 'spell',\n",
    "           'spellone', 'type', 'place1', 'nplaces', 'moves', 'runs',\n",
    "           'reenter', 'durat']\n",
    "\n",
    "df_final = df[columns]"
   ]
  },
  {
   "cell_type": "markdown",
   "metadata": {},
   "source": [
    "### Feature Engineering"
   ]
  },
  {
   "cell_type": "markdown",
   "metadata": {},
   "source": [
    "Before we could build any predictive models, we need to vectorize categorical variables using one hot encoding. Following are the categorical variables we have in the dataframe."
   ]
  },
  {
   "cell_type": "code",
   "execution_count": 33,
   "metadata": {
    "ExecuteTime": {
     "end_time": "2020-11-06T21:26:44.873810Z",
     "start_time": "2020-11-06T21:26:44.864901Z"
    }
   },
   "outputs": [
    {
     "data": {
      "text/html": [
       "<div>\n",
       "<style scoped>\n",
       "    .dataframe tbody tr th:only-of-type {\n",
       "        vertical-align: middle;\n",
       "    }\n",
       "\n",
       "    .dataframe tbody tr th {\n",
       "        vertical-align: top;\n",
       "    }\n",
       "\n",
       "    .dataframe thead th {\n",
       "        text-align: right;\n",
       "    }\n",
       "</style>\n",
       "<table border=\"1\" class=\"dataframe\">\n",
       "  <thead>\n",
       "    <tr style=\"text-align: right;\">\n",
       "      <th></th>\n",
       "      <th>gender</th>\n",
       "      <th>hispanic</th>\n",
       "      <th>ethnic</th>\n",
       "      <th>type</th>\n",
       "      <th>place1</th>\n",
       "    </tr>\n",
       "  </thead>\n",
       "  <tbody>\n",
       "    <tr>\n",
       "      <th>0</th>\n",
       "      <td>F</td>\n",
       "      <td>U</td>\n",
       "      <td>WH</td>\n",
       "      <td>SG</td>\n",
       "      <td>PSG</td>\n",
       "    </tr>\n",
       "    <tr>\n",
       "      <th>1</th>\n",
       "      <td>M</td>\n",
       "      <td>U</td>\n",
       "      <td>BL</td>\n",
       "      <td>KC</td>\n",
       "      <td>PKC</td>\n",
       "    </tr>\n",
       "    <tr>\n",
       "      <th>2</th>\n",
       "      <td>M</td>\n",
       "      <td>N</td>\n",
       "      <td>WH</td>\n",
       "      <td>KC</td>\n",
       "      <td>PKC</td>\n",
       "    </tr>\n",
       "    <tr>\n",
       "      <th>3</th>\n",
       "      <td>M</td>\n",
       "      <td>N</td>\n",
       "      <td>BL</td>\n",
       "      <td>FC</td>\n",
       "      <td>PFC</td>\n",
       "    </tr>\n",
       "    <tr>\n",
       "      <th>4</th>\n",
       "      <td>F</td>\n",
       "      <td>N</td>\n",
       "      <td>BL</td>\n",
       "      <td>KC</td>\n",
       "      <td>PKC</td>\n",
       "    </tr>\n",
       "  </tbody>\n",
       "</table>\n",
       "</div>"
      ],
      "text/plain": [
       "  gender hispanic ethnic type place1\n",
       "0      F        U     WH   SG    PSG\n",
       "1      M        U     BL   KC    PKC\n",
       "2      M        N     WH   KC    PKC\n",
       "3      M        N     BL   FC    PFC\n",
       "4      F        N     BL   KC    PKC"
      ]
     },
     "execution_count": 33,
     "metadata": {},
     "output_type": "execute_result"
    }
   ],
   "source": [
    "catVars = ['gender', 'hispanic', 'ethnic', 'type','place1']\n",
    "\n",
    "df_final_cat = df_final[catVars]\n",
    "\n",
    "df_final_cat.head()"
   ]
  },
  {
   "cell_type": "code",
   "execution_count": 34,
   "metadata": {
    "ExecuteTime": {
     "end_time": "2020-11-06T21:26:44.880103Z",
     "start_time": "2020-11-06T21:26:44.876502Z"
    }
   },
   "outputs": [],
   "source": [
    "enc = OHE(handle_unknown='ignore') # import one hot encoding\n",
    "enc.fit(df_final_cat) # fit the one hot vector on our dataframe\n",
    "dataDict = enc.categories_ # data dictionary to trace all the encoded features"
   ]
  },
  {
   "cell_type": "code",
   "execution_count": 35,
   "metadata": {
    "ExecuteTime": {
     "end_time": "2020-11-06T21:26:44.888610Z",
     "start_time": "2020-11-06T21:26:44.882380Z"
    }
   },
   "outputs": [],
   "source": [
    "df_final_cat_ohm = pd.DataFrame(enc.transform(df_final_cat).toarray()) # converting the OHE features to a dataframe"
   ]
  },
  {
   "cell_type": "code",
   "execution_count": 36,
   "metadata": {
    "ExecuteTime": {
     "end_time": "2020-11-06T21:26:44.896039Z",
     "start_time": "2020-11-06T21:26:44.890003Z"
    }
   },
   "outputs": [],
   "source": [
    "df_final_upd = pd.concat([df_final, df_final_cat_ohm], axis = 1)\n",
    "df_final_upd = df_final_upd.drop(catVars,axis = 1) # dropping categorical variables because they have\n",
    "                                                    # already been vectorized"
   ]
  },
  {
   "cell_type": "markdown",
   "metadata": {},
   "source": [
    "After the categorical variables have been one-hot encoded, following is the snapshot of what the updated dataframe looks like."
   ]
  },
  {
   "cell_type": "code",
   "execution_count": 37,
   "metadata": {
    "ExecuteTime": {
     "end_time": "2020-11-06T21:26:44.914156Z",
     "start_time": "2020-11-06T21:26:44.897588Z"
    }
   },
   "outputs": [
    {
     "name": "stdout",
     "output_type": "stream",
     "text": [
      "Dataframe's shape: (2849, 42)\n"
     ]
    },
    {
     "data": {
      "text/html": [
       "<div>\n",
       "<style scoped>\n",
       "    .dataframe tbody tr th:only-of-type {\n",
       "        vertical-align: middle;\n",
       "    }\n",
       "\n",
       "    .dataframe tbody tr th {\n",
       "        vertical-align: top;\n",
       "    }\n",
       "\n",
       "    .dataframe thead th {\n",
       "        text-align: right;\n",
       "    }\n",
       "</style>\n",
       "<table border=\"1\" class=\"dataframe\">\n",
       "  <thead>\n",
       "    <tr style=\"text-align: right;\">\n",
       "      <th></th>\n",
       "      <th>spellage</th>\n",
       "      <th>inyear</th>\n",
       "      <th>spell</th>\n",
       "      <th>spellone</th>\n",
       "      <th>nplaces</th>\n",
       "      <th>moves</th>\n",
       "      <th>runs</th>\n",
       "      <th>reenter</th>\n",
       "      <th>durat</th>\n",
       "      <th>0</th>\n",
       "      <th>...</th>\n",
       "      <th>23</th>\n",
       "      <th>24</th>\n",
       "      <th>25</th>\n",
       "      <th>26</th>\n",
       "      <th>27</th>\n",
       "      <th>28</th>\n",
       "      <th>29</th>\n",
       "      <th>30</th>\n",
       "      <th>31</th>\n",
       "      <th>32</th>\n",
       "    </tr>\n",
       "  </thead>\n",
       "  <tbody>\n",
       "    <tr>\n",
       "      <th>0</th>\n",
       "      <td>17</td>\n",
       "      <td>2014</td>\n",
       "      <td>1</td>\n",
       "      <td>1</td>\n",
       "      <td>1</td>\n",
       "      <td>0</td>\n",
       "      <td>0</td>\n",
       "      <td>0</td>\n",
       "      <td>117</td>\n",
       "      <td>1.0</td>\n",
       "      <td>...</td>\n",
       "      <td>0.0</td>\n",
       "      <td>0.0</td>\n",
       "      <td>0.0</td>\n",
       "      <td>0.0</td>\n",
       "      <td>0.0</td>\n",
       "      <td>0.0</td>\n",
       "      <td>0.0</td>\n",
       "      <td>0.0</td>\n",
       "      <td>1.0</td>\n",
       "      <td>0.0</td>\n",
       "    </tr>\n",
       "    <tr>\n",
       "      <th>1</th>\n",
       "      <td>4</td>\n",
       "      <td>2014</td>\n",
       "      <td>1</td>\n",
       "      <td>1</td>\n",
       "      <td>1</td>\n",
       "      <td>0</td>\n",
       "      <td>0</td>\n",
       "      <td>0</td>\n",
       "      <td>60</td>\n",
       "      <td>0.0</td>\n",
       "      <td>...</td>\n",
       "      <td>0.0</td>\n",
       "      <td>0.0</td>\n",
       "      <td>0.0</td>\n",
       "      <td>0.0</td>\n",
       "      <td>1.0</td>\n",
       "      <td>0.0</td>\n",
       "      <td>0.0</td>\n",
       "      <td>0.0</td>\n",
       "      <td>0.0</td>\n",
       "      <td>0.0</td>\n",
       "    </tr>\n",
       "    <tr>\n",
       "      <th>2</th>\n",
       "      <td>0</td>\n",
       "      <td>2014</td>\n",
       "      <td>1</td>\n",
       "      <td>1</td>\n",
       "      <td>1</td>\n",
       "      <td>0</td>\n",
       "      <td>0</td>\n",
       "      <td>1</td>\n",
       "      <td>53</td>\n",
       "      <td>0.0</td>\n",
       "      <td>...</td>\n",
       "      <td>0.0</td>\n",
       "      <td>0.0</td>\n",
       "      <td>0.0</td>\n",
       "      <td>0.0</td>\n",
       "      <td>1.0</td>\n",
       "      <td>0.0</td>\n",
       "      <td>0.0</td>\n",
       "      <td>0.0</td>\n",
       "      <td>0.0</td>\n",
       "      <td>0.0</td>\n",
       "    </tr>\n",
       "    <tr>\n",
       "      <th>3</th>\n",
       "      <td>4</td>\n",
       "      <td>2014</td>\n",
       "      <td>1</td>\n",
       "      <td>1</td>\n",
       "      <td>1</td>\n",
       "      <td>0</td>\n",
       "      <td>0</td>\n",
       "      <td>0</td>\n",
       "      <td>939</td>\n",
       "      <td>0.0</td>\n",
       "      <td>...</td>\n",
       "      <td>0.0</td>\n",
       "      <td>1.0</td>\n",
       "      <td>0.0</td>\n",
       "      <td>0.0</td>\n",
       "      <td>0.0</td>\n",
       "      <td>0.0</td>\n",
       "      <td>0.0</td>\n",
       "      <td>0.0</td>\n",
       "      <td>0.0</td>\n",
       "      <td>0.0</td>\n",
       "    </tr>\n",
       "    <tr>\n",
       "      <th>4</th>\n",
       "      <td>2</td>\n",
       "      <td>2014</td>\n",
       "      <td>1</td>\n",
       "      <td>1</td>\n",
       "      <td>1</td>\n",
       "      <td>0</td>\n",
       "      <td>0</td>\n",
       "      <td>0</td>\n",
       "      <td>939</td>\n",
       "      <td>1.0</td>\n",
       "      <td>...</td>\n",
       "      <td>0.0</td>\n",
       "      <td>0.0</td>\n",
       "      <td>0.0</td>\n",
       "      <td>0.0</td>\n",
       "      <td>1.0</td>\n",
       "      <td>0.0</td>\n",
       "      <td>0.0</td>\n",
       "      <td>0.0</td>\n",
       "      <td>0.0</td>\n",
       "      <td>0.0</td>\n",
       "    </tr>\n",
       "  </tbody>\n",
       "</table>\n",
       "<p>5 rows × 42 columns</p>\n",
       "</div>"
      ],
      "text/plain": [
       "   spellage  inyear  spell  spellone  nplaces  moves  runs  reenter  durat  \\\n",
       "0        17    2014      1         1        1      0     0        0    117   \n",
       "1         4    2014      1         1        1      0     0        0     60   \n",
       "2         0    2014      1         1        1      0     0        1     53   \n",
       "3         4    2014      1         1        1      0     0        0    939   \n",
       "4         2    2014      1         1        1      0     0        0    939   \n",
       "\n",
       "     0  ...   23   24   25   26   27   28   29   30   31   32  \n",
       "0  1.0  ...  0.0  0.0  0.0  0.0  0.0  0.0  0.0  0.0  1.0  0.0  \n",
       "1  0.0  ...  0.0  0.0  0.0  0.0  1.0  0.0  0.0  0.0  0.0  0.0  \n",
       "2  0.0  ...  0.0  0.0  0.0  0.0  1.0  0.0  0.0  0.0  0.0  0.0  \n",
       "3  0.0  ...  0.0  1.0  0.0  0.0  0.0  0.0  0.0  0.0  0.0  0.0  \n",
       "4  1.0  ...  0.0  0.0  0.0  0.0  1.0  0.0  0.0  0.0  0.0  0.0  \n",
       "\n",
       "[5 rows x 42 columns]"
      ]
     },
     "execution_count": 37,
     "metadata": {},
     "output_type": "execute_result"
    }
   ],
   "source": [
    "print(\"Dataframe's shape:\", df_final_upd.shape)\n",
    "\n",
    "df_final_upd.head()"
   ]
  },
  {
   "cell_type": "markdown",
   "metadata": {},
   "source": [
    "As we can notice above, the columns such as `31` and `32` add no meaning to what the variable might be about; thus, I appended the variable names for clarity. Here is the snapshot of the dataframe after I added the variable names."
   ]
  },
  {
   "cell_type": "code",
   "execution_count": 38,
   "metadata": {
    "ExecuteTime": {
     "end_time": "2020-11-06T21:26:44.935804Z",
     "start_time": "2020-11-06T21:26:44.916513Z"
    }
   },
   "outputs": [
    {
     "data": {
      "text/html": [
       "<div>\n",
       "<style scoped>\n",
       "    .dataframe tbody tr th:only-of-type {\n",
       "        vertical-align: middle;\n",
       "    }\n",
       "\n",
       "    .dataframe tbody tr th {\n",
       "        vertical-align: top;\n",
       "    }\n",
       "\n",
       "    .dataframe thead th {\n",
       "        text-align: right;\n",
       "    }\n",
       "</style>\n",
       "<table border=\"1\" class=\"dataframe\">\n",
       "  <thead>\n",
       "    <tr style=\"text-align: right;\">\n",
       "      <th></th>\n",
       "      <th>spellage</th>\n",
       "      <th>inyear</th>\n",
       "      <th>spell</th>\n",
       "      <th>spellone</th>\n",
       "      <th>nplaces</th>\n",
       "      <th>moves</th>\n",
       "      <th>runs</th>\n",
       "      <th>reenter</th>\n",
       "      <th>durat</th>\n",
       "      <th>female</th>\n",
       "      <th>...</th>\n",
       "      <th>PAL</th>\n",
       "      <th>PFC</th>\n",
       "      <th>PGH</th>\n",
       "      <th>PIL</th>\n",
       "      <th>PKC</th>\n",
       "      <th>PRC</th>\n",
       "      <th>PRT</th>\n",
       "      <th>PSF</th>\n",
       "      <th>PSG</th>\n",
       "      <th>PUK</th>\n",
       "    </tr>\n",
       "  </thead>\n",
       "  <tbody>\n",
       "    <tr>\n",
       "      <th>0</th>\n",
       "      <td>17</td>\n",
       "      <td>2014</td>\n",
       "      <td>1</td>\n",
       "      <td>1</td>\n",
       "      <td>1</td>\n",
       "      <td>0</td>\n",
       "      <td>0</td>\n",
       "      <td>0</td>\n",
       "      <td>117</td>\n",
       "      <td>1.0</td>\n",
       "      <td>...</td>\n",
       "      <td>0.0</td>\n",
       "      <td>0.0</td>\n",
       "      <td>0.0</td>\n",
       "      <td>0.0</td>\n",
       "      <td>0.0</td>\n",
       "      <td>0.0</td>\n",
       "      <td>0.0</td>\n",
       "      <td>0.0</td>\n",
       "      <td>1.0</td>\n",
       "      <td>0.0</td>\n",
       "    </tr>\n",
       "    <tr>\n",
       "      <th>1</th>\n",
       "      <td>4</td>\n",
       "      <td>2014</td>\n",
       "      <td>1</td>\n",
       "      <td>1</td>\n",
       "      <td>1</td>\n",
       "      <td>0</td>\n",
       "      <td>0</td>\n",
       "      <td>0</td>\n",
       "      <td>60</td>\n",
       "      <td>0.0</td>\n",
       "      <td>...</td>\n",
       "      <td>0.0</td>\n",
       "      <td>0.0</td>\n",
       "      <td>0.0</td>\n",
       "      <td>0.0</td>\n",
       "      <td>1.0</td>\n",
       "      <td>0.0</td>\n",
       "      <td>0.0</td>\n",
       "      <td>0.0</td>\n",
       "      <td>0.0</td>\n",
       "      <td>0.0</td>\n",
       "    </tr>\n",
       "    <tr>\n",
       "      <th>2</th>\n",
       "      <td>0</td>\n",
       "      <td>2014</td>\n",
       "      <td>1</td>\n",
       "      <td>1</td>\n",
       "      <td>1</td>\n",
       "      <td>0</td>\n",
       "      <td>0</td>\n",
       "      <td>1</td>\n",
       "      <td>53</td>\n",
       "      <td>0.0</td>\n",
       "      <td>...</td>\n",
       "      <td>0.0</td>\n",
       "      <td>0.0</td>\n",
       "      <td>0.0</td>\n",
       "      <td>0.0</td>\n",
       "      <td>1.0</td>\n",
       "      <td>0.0</td>\n",
       "      <td>0.0</td>\n",
       "      <td>0.0</td>\n",
       "      <td>0.0</td>\n",
       "      <td>0.0</td>\n",
       "    </tr>\n",
       "    <tr>\n",
       "      <th>3</th>\n",
       "      <td>4</td>\n",
       "      <td>2014</td>\n",
       "      <td>1</td>\n",
       "      <td>1</td>\n",
       "      <td>1</td>\n",
       "      <td>0</td>\n",
       "      <td>0</td>\n",
       "      <td>0</td>\n",
       "      <td>939</td>\n",
       "      <td>0.0</td>\n",
       "      <td>...</td>\n",
       "      <td>0.0</td>\n",
       "      <td>1.0</td>\n",
       "      <td>0.0</td>\n",
       "      <td>0.0</td>\n",
       "      <td>0.0</td>\n",
       "      <td>0.0</td>\n",
       "      <td>0.0</td>\n",
       "      <td>0.0</td>\n",
       "      <td>0.0</td>\n",
       "      <td>0.0</td>\n",
       "    </tr>\n",
       "    <tr>\n",
       "      <th>4</th>\n",
       "      <td>2</td>\n",
       "      <td>2014</td>\n",
       "      <td>1</td>\n",
       "      <td>1</td>\n",
       "      <td>1</td>\n",
       "      <td>0</td>\n",
       "      <td>0</td>\n",
       "      <td>0</td>\n",
       "      <td>939</td>\n",
       "      <td>1.0</td>\n",
       "      <td>...</td>\n",
       "      <td>0.0</td>\n",
       "      <td>0.0</td>\n",
       "      <td>0.0</td>\n",
       "      <td>0.0</td>\n",
       "      <td>1.0</td>\n",
       "      <td>0.0</td>\n",
       "      <td>0.0</td>\n",
       "      <td>0.0</td>\n",
       "      <td>0.0</td>\n",
       "      <td>0.0</td>\n",
       "    </tr>\n",
       "  </tbody>\n",
       "</table>\n",
       "<p>5 rows × 42 columns</p>\n",
       "</div>"
      ],
      "text/plain": [
       "   spellage  inyear  spell  spellone  nplaces  moves  runs  reenter  durat  \\\n",
       "0        17    2014      1         1        1      0     0        0    117   \n",
       "1         4    2014      1         1        1      0     0        0     60   \n",
       "2         0    2014      1         1        1      0     0        1     53   \n",
       "3         4    2014      1         1        1      0     0        0    939   \n",
       "4         2    2014      1         1        1      0     0        0    939   \n",
       "\n",
       "   female  ...  PAL  PFC  PGH  PIL  PKC  PRC  PRT  PSF  PSG  PUK  \n",
       "0     1.0  ...  0.0  0.0  0.0  0.0  0.0  0.0  0.0  0.0  1.0  0.0  \n",
       "1     0.0  ...  0.0  0.0  0.0  0.0  1.0  0.0  0.0  0.0  0.0  0.0  \n",
       "2     0.0  ...  0.0  0.0  0.0  0.0  1.0  0.0  0.0  0.0  0.0  0.0  \n",
       "3     0.0  ...  0.0  1.0  0.0  0.0  0.0  0.0  0.0  0.0  0.0  0.0  \n",
       "4     1.0  ...  0.0  0.0  0.0  0.0  1.0  0.0  0.0  0.0  0.0  0.0  \n",
       "\n",
       "[5 rows x 42 columns]"
      ]
     },
     "execution_count": 38,
     "metadata": {},
     "output_type": "execute_result"
    }
   ],
   "source": [
    "varNames = ['spellage', 'inyear', 'spell', 'spellone','nplaces','moves','runs','reenter','durat',\n",
    " 'female','male','hispanic_no','hispanic_unknown',\n",
    " 'hispanic_male','native_american','asian','black',\n",
    " 'multi_race','other_race','unknown','white','type_AL','type_FC',\n",
    " 'type_GH','type_IL','type_KC','type_MX','type_RC','type_RT','type_SF','type_SG',\n",
    " 'type_UK', 'PAL', 'PFC', 'PGH', 'PIL', 'PKC', 'PRC', 'PRT', 'PSF', 'PSG', 'PUK']\n",
    "\n",
    "df_final_upd.columns = varNames\n",
    "df_final_upd.head()"
   ]
  },
  {
   "cell_type": "markdown",
   "metadata": {},
   "source": [
    "Now, we could split the dataframe into `features` and `label`. Before we could build any predictive model, we must normalize the feature space because many features are in different scales. When we model a regression, for example, it tries to minimize the error (variance) between our prediction and actuality. <span class=\"mark\">However, a unit increase in `spellage` (age) is not the same as a unit increase in `durat` (duration of stay). Thus, `spellage` will naturally have a higher variance than does `durat`.</span> As a result, normalization accounts for the differences in variances as it scales all the features to have mean 0 and the standard deviation of 1.\n",
    "\n",
    "Here (code hidden), I have normalized the dataframe."
   ]
  },
  {
   "cell_type": "code",
   "execution_count": 39,
   "metadata": {
    "ExecuteTime": {
     "end_time": "2020-11-06T21:26:44.949179Z",
     "start_time": "2020-11-06T21:26:44.937753Z"
    }
   },
   "outputs": [],
   "source": [
    "dfX = df_final_upd.loc[:, df_final_upd.columns != 'reenter'] # features\n",
    "\n",
    "dfY = df_final_upd['reenter'] # labels\n",
    "\n",
    "Xstd = pd.DataFrame(StandardScaler().fit_transform(dfX))\n",
    "\n",
    "varNames = ['spellage', 'inyear', 'spell', 'spellone','nplaces','moves','runs','durat',\n",
    " 'female','male','hispanic_no','hispanic_unknown',\n",
    " 'hispanic_male','native_american','asian','black',\n",
    " 'multi_race','other_race','unknown','white','type_AL','type_FC',\n",
    " 'type_GH','type_IL','type_KC','type_MX','type_RC','type_RT','type_SF','type_SG',\n",
    " 'type_UK', 'PAL', 'PFC', 'PGH', 'PIL', 'PKC', 'PRC', 'PRT', 'PSF', 'PSG', 'PUK']\n",
    "\n",
    "Xstd.columns = varNames"
   ]
  },
  {
   "cell_type": "markdown",
   "metadata": {},
   "source": [
    "## Predictive Modeling"
   ]
  },
  {
   "cell_type": "markdown",
   "metadata": {},
   "source": [
    "All that remains now is build different predictive models and see their corresponding performance. Unfortunately, I ran out of alloted 2-3 hours of time, so I was unable to build any models. That said, modeling, as in any machine learning project, requires the least amount of time. On the flip side, data wrangling and feature engineering take the most time as evident in this data challenge.\n",
    "\n",
    "If given additional time, I would love to build an ensemble of classifiers, such as Logistic Regression, Random Forest, Support Vector Machine, and Naive Bayes, and draw their ROC curve to determine their performances. Once the models are built, we can deploy the model and leverage it to predict the subsequent spell for any incoming children and take preventive measures accordingly."
   ]
  },
  {
   "cell_type": "code",
   "execution_count": null,
   "metadata": {
    "ExecuteTime": {
     "end_time": "2020-11-06T21:23:12.271115Z",
     "start_time": "2020-11-06T21:23:12.261087Z"
    }
   },
   "outputs": [],
   "source": [
    "clf = svm.SVC(kernel='linear', C=1)\n",
    "scores = cross_val_score(clf, Xstd, dfY, cv=5)"
   ]
  }
 ],
 "metadata": {
  "hide_input": false,
  "kernelspec": {
   "display_name": "Python 3",
   "language": "python",
   "name": "python3"
  },
  "language_info": {
   "codemirror_mode": {
    "name": "ipython",
    "version": 3
   },
   "file_extension": ".py",
   "mimetype": "text/x-python",
   "name": "python",
   "nbconvert_exporter": "python",
   "pygments_lexer": "ipython3",
   "version": "3.7.6"
  },
  "latex_envs": {
   "LaTeX_envs_menu_present": true,
   "autoclose": false,
   "autocomplete": true,
   "bibliofile": "biblio.bib",
   "cite_by": "apalike",
   "current_citInitial": 1,
   "eqLabelWithNumbers": true,
   "eqNumInitial": 1,
   "hotkeys": {
    "equation": "Ctrl-E",
    "itemize": "Ctrl-I"
   },
   "labels_anchors": false,
   "latex_user_defs": false,
   "report_style_numbering": false,
   "user_envs_cfg": false
  },
  "toc": {
   "base_numbering": 1,
   "nav_menu": {},
   "number_sections": true,
   "sideBar": true,
   "skip_h1_title": false,
   "title_cell": "Table of Contents",
   "title_sidebar": "Contents",
   "toc_cell": false,
   "toc_position": {},
   "toc_section_display": true,
   "toc_window_display": true
  },
  "varInspector": {
   "cols": {
    "lenName": 16,
    "lenType": 16,
    "lenVar": 40
   },
   "kernels_config": {
    "python": {
     "delete_cmd_postfix": "",
     "delete_cmd_prefix": "del ",
     "library": "var_list.py",
     "varRefreshCmd": "print(var_dic_list())"
    },
    "r": {
     "delete_cmd_postfix": ") ",
     "delete_cmd_prefix": "rm(",
     "library": "var_list.r",
     "varRefreshCmd": "cat(var_dic_list()) "
    }
   },
   "oldHeight": 122,
   "position": {
    "height": "40px",
    "left": "1330px",
    "right": "20px",
    "top": "120px",
    "width": "250px"
   },
   "types_to_exclude": [
    "module",
    "function",
    "builtin_function_or_method",
    "instance",
    "_Feature"
   ],
   "varInspector_section_display": "none",
   "window_display": false
  }
 },
 "nbformat": 4,
 "nbformat_minor": 4
}
